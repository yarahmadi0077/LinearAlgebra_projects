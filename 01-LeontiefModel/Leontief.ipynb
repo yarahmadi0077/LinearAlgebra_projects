{
 "cells": [
  {
   "attachments": {},
   "cell_type": "markdown",
   "metadata": {},
   "source": [
    "# Linear Algebra Practical Homework 1:\n",
    "\n",
    "In this project we are trying to solve a simple example of leontief input_output model.\n",
    "\n",
    "The following assignment consists of:\n",
    "1. Finding the consumption matrix C from the given table\n",
    "2. Finding the reduced row echelon form of the augmented matrix [I-C | d] \n",
    "3. Calculating the production vector x\n",
    "\n",
    "TAs in charge: @KHprnd , @kiana_shh"
   ]
  },
  {
   "cell_type": "markdown",
   "metadata": {},
   "source": [
    "- Student: [Mohammad Yarahmadi]\n",
    "- Student ID: [40231059]\n",
    "- connect : @yarahmadi0077"
   ]
  },
  {
   "cell_type": "markdown",
   "metadata": {},
   "source": [
    "# Leontief model definition\n",
    "Input-output analysis is a form of macroeconomic analysis based on the interdependencies between different economic sectors or industries.\n",
    "As you know the ecconomy divides into sectors where each sector produces goods and services not only for itself but also for other sectors so each sector has an effect on others.\n",
    "This model helps us to find out how much goods do we need to produce in order to meet the outside and intermidiate demands.\n",
    "The leontief model is branched into two submodels : closed and open.\n",
    "- open model : some production is consumed by industries, and the rest is consumed by external bodies.\n",
    "- closed model : all production is consumed by industries.\n",
    "\n",
    "the equation for the open model is x = Cx + d, where d represents he demand matrix. In a closed economy, the equation is x = Cx, which means the total input equals the total output."
   ]
  },
  {
   "cell_type": "markdown",
   "metadata": {},
   "source": [
    "# Problem description\n",
    "\n",
    "Suppose an open economy consists of Coal, Electric, and Steel sectors, and the output of each sector is distributed among the various sectors as shown in the table below,\n",
    "where the entries in a column represent the fractional parts of a sectors total output.\n",
    "\n",
    "<img src=\"table.jpg\" alt = \"simple economy\" width=\"400\"/>\n",
    "\n",
    "suppose that the open sector has a demand for $7900 worth of coal, $3950 worth of Electric and $1975 worth of steel.\n",
    "- a) Can the economy meet the demand?\n",
    "- b) If so, find a production vector x that will meet it exactly.\n"
   ]
  },
  {
   "attachments": {},
   "cell_type": "markdown",
   "metadata": {},
   "source": [
    "### 0. Libraries"
   ]
  },
  {
   "cell_type": "code",
   "metadata": {
    "is_executing": true,
    "ExecuteTime": {
     "end_time": "2024-12-16T16:56:18.899071Z",
     "start_time": "2024-12-16T16:56:18.894274Z"
    }
   },
   "source": [
    "import numpy as np"
   ],
   "outputs": [],
   "execution_count": 11
  },
  {
   "attachments": {},
   "cell_type": "markdown",
   "metadata": {},
   "source": [
    "## 1. Deriving consumption matrix\n",
    " Consumption matrix C : this matrix's columns are the inputs required for each output.\n",
    " \n"
   ]
  },
  {
   "cell_type": "code",
   "metadata": {
    "ExecuteTime": {
     "end_time": "2024-12-16T16:56:18.940699Z",
     "start_time": "2024-12-16T16:56:18.934138Z"
    }
   },
   "source": [
    "Consumption = np.array([[0.5,0.1,0.1]\n",
    "              ,[0.2,0.5,0.3]\n",
    "              ,[0.1,0.3,0.4]])\n",
    "# A = [I - C | d]\n",
    "I = np.eye(3)  \n",
    "#d = np.array([[7900], [3950], [1975]]) \n",
    "#A = np.hstack((I - Consumption, d))"
   ],
   "outputs": [],
   "execution_count": 12
  },
  {
   "attachments": {},
   "cell_type": "markdown",
   "metadata": {},
   "source": [
    "## 2. Finding the echelon form of the augmented matrix\n",
    "\n",
    "<p>\n",
    "  In this part, you are required to use the function defined in the previous section to find the echelon form of the augmented matrix [I - C | d]. The column vector <i>d</i> is called the outside demand vector. Since the product-producing sectors consume some of their own output, the monetary value of their output must cover both their own needs and the outside demand.\n",
    "</p>\n",
    "\n",
    "<p>\n",
    "  The column vector <i>x</i>, which contains the monetary values as successive components, is called the production vector for the economy. By multiplying <i>x</i> by the consumption matrix <i>C</i>, we obtain <i>Cx</i>, the portion of the production vector that will be consumed by the productive sectors. This vector <i>Cx</i> is referred to as the intermediate demand vector for the economy.\n",
    "</p>\n",
    "\n",
    "<p>\n",
    "  Once the intermediate demand is met, the portion of the production that remains to satisfy the outside demand is <i>x - Cx</i>. Therefore, <i>x</i> must satisfy the equation:\n",
    "</p>\n",
    "\n",
    "<p style=\"text-align: center; font-size: 24px;\">\n",
    "  x - Cx = d\n",
    "</p>\n",
    "\n",
    "<p>\n",
    "  This equation can be rewritten in a more convenient form:\n",
    "</p>\n",
    "\n",
    "<p style=\"text-align: center; font-size: 24px;\">\n",
    "  (I - C)x = d\n",
    "</p>\n",
    "\n",
    "<p>\n",
    "  The matrix <i>I - C</i> is called the Leontief matrix, and the equation <i>(I - C)x = d</i> is known as the Leontief equation.\n",
    "</p>\n"
   ]
  },
  {
   "attachments": {},
   "cell_type": "markdown",
   "metadata": {},
   "source": [
    "### 2.1. Row Echelon Form\n",
    "concat the I-C matrix and d vector and give the augmented matrix to the function. (Attention: your function should work for all possible matrices!)"
   ]
  },
  {
   "cell_type": "code",
   "metadata": {
    "ExecuteTime": {
     "end_time": "2024-12-16T16:56:18.956029Z",
     "start_time": "2024-12-16T16:56:18.942702Z"
    }
   },
   "source": [
    "def row_echelon(A):\n",
    "    rows, cols = A.shape\n",
    "    for i in range(rows):\n",
    "        max_row = np.argmax(abs(A[i:, i])) + i\n",
    "        A[[i, max_row]] = A[[max_row, i]]\n",
    "        \n",
    "        A[i] = A[i] / A[i, i]\n",
    "        \n",
    "        for j in range(i + 1, rows):\n",
    "            A[j] = A[j] - A[j, i] * A[i]\n",
    "    \n",
    "    return A"
   ],
   "outputs": [],
   "execution_count": 13
  },
  {
   "cell_type": "code",
   "metadata": {
    "ExecuteTime": {
     "end_time": "2024-12-16T16:56:18.966543Z",
     "start_time": "2024-12-16T16:56:18.957092Z"
    }
   },
   "source": [
    "#DO NOT CHANGE THIS PART\n",
    "C = np.array([[0.5,0.1,0.1]\n",
    "              ,[0.2,0.5,0.3]\n",
    "              ,[0.1,0.3,0.4]])\n",
    "d = np.array([[7900]\n",
    "              ,[3950]\n",
    "              ,[1975]])\n",
    "A = np.array([[0.5,-0.1,-0.1,7900]\n",
    "              ,[-0.2,0.5,-0.3,3950]\n",
    "              ,[-0.1,-0.3,0.6,1975]])\n",
    "print(row_echelon(A))\n",
    "\"\"\"Notice that any true row echelon form is acceptable. an example is given below:\n",
    "expected_output = ([[1,-0.2,-0.2,15800]\n",
    "                ,[0,23,-17,355500]\n",
    "                ,[0,0,1,24750]])\n",
    "\"\"\""
   ],
   "outputs": [
    {
     "name": "stdout",
     "output_type": "stream",
     "text": [
      "[[ 1.00000000e+00 -2.00000000e-01 -2.00000000e-01  1.58000000e+04]\n",
      " [ 0.00000000e+00  1.00000000e+00 -7.39130435e-01  1.54565217e+04]\n",
      " [ 0.00000000e+00  0.00000000e+00  1.00000000e+00  2.47500000e+04]]\n"
     ]
    },
    {
     "data": {
      "text/plain": [
       "'Notice that any true row echelon form is acceptable. an example is given below:\\nexpected_output = ([[1,-0.2,-0.2,15800]\\n                ,[0,23,-17,355500]\\n                ,[0,0,1,24750]])\\n'"
      ]
     },
     "execution_count": 14,
     "metadata": {},
     "output_type": "execute_result"
    }
   ],
   "execution_count": 14
  },
  {
   "attachments": {},
   "cell_type": "markdown",
   "metadata": {},
   "source": [
    "### 2.2. Reduce Row Echelon Form"
   ]
  },
  {
   "cell_type": "code",
   "metadata": {
    "ExecuteTime": {
     "end_time": "2024-12-16T16:56:18.975863Z",
     "start_time": "2024-12-16T16:56:18.969617Z"
    }
   },
   "source": [
    "def reduce(A):\n",
    "\n",
    "    rows, cols = A.shape\n",
    "    for i in range(rows - 1, -1, -1):\n",
    "        A[i] = A[i] / A[i, i]\n",
    "        for j in range(i):\n",
    "            A[j] = A[j] - A[j, i] * A[i]\n",
    "    \n",
    "    return A\n"
   ],
   "outputs": [],
   "execution_count": 15
  },
  {
   "cell_type": "code",
   "metadata": {
    "ExecuteTime": {
     "end_time": "2024-12-16T16:56:19.021690Z",
     "start_time": "2024-12-16T16:56:19.014866Z"
    }
   },
   "source": [
    "#DO NOT CHANGE THIS PART\n",
    "B = np.array([[1,-0.2,-0.2,15800]\n",
    "                ,[0,23,-17,355500]\n",
    "                ,[0,0,1,24750]])\n",
    "reduce(B)\n",
    "\"\"\"expected_output = ([[1,0,0,27500]\n",
    "                ,[0,1,0,33750]\n",
    "                ,[0,0,1,24750]])\"\"\"\n",
    "print(reduce(B))\n"
   ],
   "outputs": [
    {
     "name": "stdout",
     "output_type": "stream",
     "text": [
      "[[1.000e+00 0.000e+00 0.000e+00 2.750e+04]\n",
      " [0.000e+00 1.000e+00 0.000e+00 3.375e+04]\n",
      " [0.000e+00 0.000e+00 1.000e+00 2.475e+04]]\n"
     ]
    }
   ],
   "execution_count": 16
  },
  {
   "cell_type": "markdown",
   "metadata": {},
   "source": [
    "## 3. The solution\n",
    "In this section, you are requiered to find the production vector x that covers the intermediate and outside economical demand"
   ]
  },
  {
   "attachments": {},
   "cell_type": "markdown",
   "metadata": {},
   "source": [
    "### 3.1. Existence of the Solution\n",
    "Based on the reduced form of the augmented matrix and prior to finding the answer, make sure the solution exists!"
   ]
  },
  {
   "cell_type": "code",
   "metadata": {
    "ExecuteTime": {
     "end_time": "2024-12-16T16:56:19.041164Z",
     "start_time": "2024-12-16T16:56:19.035756Z"
    }
   },
   "source": [
    "def is_consistent(A):\n",
    "    rows, cols = A.shape\n",
    "    for i in range(rows):\n",
    "        if np.all(A[i, :-1] == 0) and A[i, -1] != 0:\n",
    "            return False\n",
    "    return True\n"
   ],
   "outputs": [],
   "execution_count": 17
  },
  {
   "cell_type": "code",
   "metadata": {
    "collapsed": false,
    "ExecuteTime": {
     "end_time": "2024-12-16T16:56:19.071447Z",
     "start_time": "2024-12-16T16:56:19.063167Z"
    }
   },
   "source": [
    "#e.g.\n",
    "# DO NOT CHANGE THIS CELL\n",
    "\n",
    "print(is_consistent(B))\n",
    "\"\"\"\n",
    "expected_output: true\n",
    "\"\"\""
   ],
   "outputs": [
    {
     "name": "stdout",
     "output_type": "stream",
     "text": [
      "True\n"
     ]
    },
    {
     "data": {
      "text/plain": [
       "'\\nexpected_output: true\\n'"
      ]
     },
     "execution_count": 18,
     "metadata": {},
     "output_type": "execute_result"
    }
   ],
   "execution_count": 18
  },
  {
   "attachments": {},
   "cell_type": "markdown",
   "metadata": {},
   "source": [
    "### 3.2. Finding a Solution\n",
    "If the system has a solution, find and return it.\n",
    "If the system has infinite solutions, return only one solution. (If there are some free variables assume them as '0')"
   ]
  },
  {
   "cell_type": "code",
   "metadata": {
    "ExecuteTime": {
     "end_time": "2024-12-16T16:56:19.156208Z",
     "start_time": "2024-12-16T16:56:19.148696Z"
    }
   },
   "source": [
    "def solve(A):\n",
    "  rows, cols = A.shape\n",
    "  x = np.zeros((rows, 1))\n",
    "  for i in range(rows - 1, -1, -1):\n",
    "      x[i] = A[i, -1]\n",
    "      for j in range(i + 1, rows):\n",
    "          x[i] -= A[i, j] * x[j]\n",
    "    \n",
    "  return x\n"
   ],
   "outputs": [],
   "execution_count": 19
  },
  {
   "cell_type": "code",
   "metadata": {
    "ExecuteTime": {
     "end_time": "2024-12-16T16:56:19.203037Z",
     "start_time": "2024-12-16T16:56:19.194211Z"
    }
   },
   "source": [
    "#e.g.\n",
    "# DO NOT CHANGE THIS CELL\n",
    "\n",
    "\n",
    "B = np.array([[ 1, 0, 0, 27500],\n",
    "              [ 0, 1, 0, 33750],\n",
    "              [ 0, 0, 1, 24750]])\n",
    "print(solve(B))\n",
    "\"\"\"\n",
    "Expected_output = [[27500],\n",
    "                   [33750],\n",
    "                   [24750]]\n",
    "    \n",
    "\"\"\"\n",
    "\n",
    "\n",
    "A = np.array([[1,2,-1,0],\n",
    "              [3,6,0,4],\n",
    "              [2,4,1,3]])\n",
    "\n",
    "print(solve(A))\n",
    "\"\"\" expected output:\n",
    "this system has no answer\"\"\"\n",
    "\n",
    "D = np.array([[1,2,3],\n",
    "              [4,5,6],\n",
    "              [7,8,9]])\n",
    "print(solve(D))\n",
    "\"\"\" expected output:\n",
    "x1 = -1 , x2 = 2\"\"\"\n",
    "\n",
    "\n",
    "E = np.array([[1,2,3,4],\n",
    "              [0,1,2,5]])\n",
    "print(solve(E))\n",
    "\"\"\" expected output:\n",
    "x1 = -6 , x2 = 5 , x3 = 0\"\"\"\n"
   ],
   "outputs": [
    {
     "name": "stdout",
     "output_type": "stream",
     "text": [
      "[[27500.]\n",
      " [33750.]\n",
      " [24750.]]\n",
      "[[-5.]\n",
      " [ 4.]\n",
      " [ 3.]]\n",
      "[[ 72.]\n",
      " [-48.]\n",
      " [  9.]]\n",
      "[[-6.]\n",
      " [ 5.]]\n"
     ]
    },
    {
     "data": {
      "text/plain": [
       "' expected output:\\nx1 = -6 , x2 = 5 , x3 = 0'"
      ]
     },
     "execution_count": 20,
     "metadata": {},
     "output_type": "execute_result"
    }
   ],
   "execution_count": 20
  }
 ],
 "metadata": {
  "kernelspec": {
   "display_name": "Python 3",
   "language": "python",
   "name": "python3"
  },
  "language_info": {
   "codemirror_mode": {
    "name": "ipython",
    "version": 3
   },
   "file_extension": ".py",
   "mimetype": "text/x-python",
   "name": "python",
   "nbconvert_exporter": "python",
   "pygments_lexer": "ipython3",
   "version": "3.12.3"
  },
  "orig_nbformat": 4
 },
 "nbformat": 4,
 "nbformat_minor": 2
}
